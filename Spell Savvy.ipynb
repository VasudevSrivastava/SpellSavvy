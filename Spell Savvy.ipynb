{
 "cells": [
  {
   "cell_type": "markdown",
   "id": "1813c039-c63a-4cc4-9987-69fbe366b562",
   "metadata": {},
   "source": [
    "\r\n",
    "<h1 style=\"color:darkcyan; text-align:center; font-family:'Arial Black', Gadget, sans-serif; background-color:lightblue; padding:10px;\">\r\n",
    "    SpellSavvy: <span style=\"font-style:italic; color:darkorange;\">Spell Checker from Scratch</span>\r\n",
    "</\n",
    "---\r\n",
    "---\r\n",
    "---\r\n",
    "\n",
    "\n",
    "---\r\n"
   ]
  },
  {
   "cell_type": "markdown",
   "id": "930c9ab8-7178-47f4-bd36-e5dd9f5525e1",
   "metadata": {},
   "source": [
    "- **This is going to be an edit distance based language model**"
   ]
  },
  {
   "cell_type": "code",
   "execution_count": 2,
   "id": "a6133af1-4031-44a9-8967-7dd68757fc42",
   "metadata": {},
   "outputs": [],
   "source": [
    "import re\n",
    "import pandas as pd\n",
    "import nltk\n",
    "from tqdm import tqdm\n",
    "import numpy as np\n",
    "from nltk import word_tokenize\n",
    "from nltk.corpus import brown"
   ]
  },
  {
   "cell_type": "markdown",
   "id": "aa77b160-13dd-43e8-951e-e9ab872f890e",
   "metadata": {},
   "source": [
    "<div style=\"background-color: \n",
    "    purple; color: white; padding: 10px; border-radius: 5px; font-size: 1.2em;\">\r\n",
    "    1. Creating Vocabulary\r\n",
    "</div>\r\n"
   ]
  },
  {
   "cell_type": "code",
   "execution_count": 3,
   "id": "496a8641-de70-4b57-9278-55d1bc7d1240",
   "metadata": {},
   "outputs": [],
   "source": [
    "with open(r\"C:\\TheForge\\ProjectVault\\Spell Savvy\\brown.txt.txt\",'r') as fd:\n",
    "    corpus=fd.readlines()\n",
    "corpus=' '.join(corpus)"
   ]
  },
  {
   "cell_type": "code",
   "execution_count": 3,
   "id": "63dee8ca-4f05-4487-b957-2746c122f339",
   "metadata": {},
   "outputs": [],
   "source": [
    "corpus_tokenized=word_tokenize(corpus)\n",
    "corpus_tokenized=[word.lower() for word in corpus_tokenized]\n",
    "corp_len=len(corpus_tokenized)"
   ]
  },
  {
   "cell_type": "code",
   "execution_count": 4,
   "id": "80fcb278-4844-4b81-b785-3c74c637ad43",
   "metadata": {},
   "outputs": [],
   "source": [
    "pattern=r' \\w+ '   \n",
    "vocab=re.findall(pattern,corpus)\n",
    "vocab=[word.lower().strip() for word in vocab] "
   ]
  },
  {
   "cell_type": "code",
   "execution_count": 5,
   "id": "4d812425-d1c7-4cad-bc48-cec3932f4542",
   "metadata": {},
   "outputs": [
    {
     "data": {
      "text/plain": [
       "1184239"
      ]
     },
     "execution_count": 5,
     "metadata": {},
     "output_type": "execute_result"
    }
   ],
   "source": [
    "len(corpus_tokenized)"
   ]
  },
  {
   "cell_type": "code",
   "execution_count": 6,
   "id": "4dd72020-3dac-473c-a7d3-fceb54e313bb",
   "metadata": {},
   "outputs": [
    {
     "data": {
      "text/plain": [
       "479594"
      ]
     },
     "execution_count": 6,
     "metadata": {},
     "output_type": "execute_result"
    }
   ],
   "source": [
    "len(vocab)"
   ]
  },
  {
   "cell_type": "code",
   "execution_count": 7,
   "id": "f4b3068d-db48-47d9-9e79-12d1ce5b0bb3",
   "metadata": {},
   "outputs": [
    {
     "data": {
      "text/plain": [
       "27457"
      ]
     },
     "execution_count": 7,
     "metadata": {},
     "output_type": "execute_result"
    }
   ],
   "source": [
    "len(set(vocab))"
   ]
  },
  {
   "cell_type": "code",
   "execution_count": 8,
   "id": "09643be1-056a-43d9-84f4-a378549715f0",
   "metadata": {},
   "outputs": [],
   "source": [
    "a=np.array(vocab)\n",
    "word,count=np.unique(a,return_counts=True)"
   ]
  },
  {
   "cell_type": "code",
   "execution_count": 9,
   "id": "e7d33421-22ff-4d49-b795-c1b88f4e9385",
   "metadata": {},
   "outputs": [
    {
     "data": {
      "text/plain": [
       "27457"
      ]
     },
     "execution_count": 9,
     "metadata": {},
     "output_type": "execute_result"
    }
   ],
   "source": [
    "len(word)"
   ]
  },
  {
   "cell_type": "code",
   "execution_count": 10,
   "id": "03b1bea8-1017-431f-9320-a0a99799eea5",
   "metadata": {},
   "outputs": [
    {
     "data": {
      "text/plain": [
       "(array(['0', '1', '10', ..., 'zurcher', 'zwei', 'zworykin'], dtype='<U20'),\n",
       " array([ 4, 79, 60, ...,  1,  1,  1], dtype=int64))"
      ]
     },
     "execution_count": 10,
     "metadata": {},
     "output_type": "execute_result"
    }
   ],
   "source": [
    "word,count"
   ]
  },
  {
   "cell_type": "code",
   "execution_count": 11,
   "id": "f9cbbcb4-d6b6-4107-b7e1-d6af70acfe29",
   "metadata": {},
   "outputs": [],
   "source": [
    "probability_dist2={x:y for x,y in zip(word,count)} "
   ]
  },
  {
   "cell_type": "code",
   "execution_count": 12,
   "id": "7e23016b-163a-429a-aa45-c5bfb8e8c350",
   "metadata": {},
   "outputs": [
    {
     "data": {
      "text/plain": [
       "True"
      ]
     },
     "execution_count": 12,
     "metadata": {},
     "output_type": "execute_result"
    }
   ],
   "source": [
    "'telephone' in word"
   ]
  },
  {
   "cell_type": "code",
   "execution_count": 13,
   "id": "3fe8c563-fe89-4aa1-bf2d-2228f2b9dd6e",
   "metadata": {},
   "outputs": [
    {
     "data": {
      "text/plain": [
       "27457"
      ]
     },
     "execution_count": 13,
     "metadata": {},
     "output_type": "execute_result"
    }
   ],
   "source": [
    "len(probability_dist2)"
   ]
  },
  {
   "cell_type": "markdown",
   "id": "f8b5ff9b-a35a-4aa7-955b-72cf8bda3dad",
   "metadata": {},
   "source": [
    "<div style=\"background-color: \n",
    "    purple; color: white; padding: 10px; border-radius: 5px; font-size: 1.2em;\">\n",
    "2.Finding Probability Distribution    \n",
    "</div>\n"
   ]
  },
  {
   "cell_type": "code",
   "execution_count": 15,
   "id": "06c4d4ae-842c-47b7-8e5e-753b4eace8c5",
   "metadata": {},
   "outputs": [],
   "source": [
    "probability_dist={}\n"
   ]
  },
  {
   "cell_type": "code",
   "execution_count": null,
   "id": "58a72096-8606-46da-ba8e-9cb69baa6e65",
   "metadata": {},
   "outputs": [],
   "source": [
    "# for word in tqdm(vocab):\n",
    "#     probability_dist[word]=corpus_tokenized.count(word)/corp_len"
   ]
  },
  {
   "cell_type": "code",
   "execution_count": 16,
   "id": "803d04ad-67e4-4eab-9348-ec31f290757d",
   "metadata": {},
   "outputs": [],
   "source": [
    "# import pickle\n",
    "# with open(\"probability_dist_brown.pkl\",'wb') as fp:\n",
    "#     pickle.dump(probability_dist,fp)"
   ]
  },
  {
   "cell_type": "code",
   "execution_count": 41,
   "id": "b021e701-759f-4ba3-b1e0-bcda3f0fc364",
   "metadata": {},
   "outputs": [
    {
     "data": {
      "text/plain": [
       "27457"
      ]
     },
     "execution_count": 41,
     "metadata": {},
     "output_type": "execute_result"
    }
   ],
   "source": [
    "len(probability_dist)"
   ]
  },
  {
   "cell_type": "code",
   "execution_count": 17,
   "id": "397f61ea-5b8e-48e6-9332-346e40d5725d",
   "metadata": {},
   "outputs": [],
   "source": [
    "with open(\"probability_dist_brown.pkl\",'rb') as fp:\n",
    "    prob_dist_brown=pickle.load(fp)"
   ]
  },
  {
   "cell_type": "markdown",
   "id": "be9a359c-e009-4902-aa70-da478ef5c5f2",
   "metadata": {},
   "source": [
    "<div style=\"background-color: \n",
    "    purple; color: white; padding: 10px; border-radius: 5px; font-size: 1.2em;\">\n",
    "3.Defining Editing Functions    \n",
    "</div>\n"
   ]
  },
  {
   "cell_type": "code",
   "execution_count": 18,
   "id": "67582c96-7b2d-40e9-9279-2956afecfbcd",
   "metadata": {},
   "outputs": [],
   "source": [
    "def delete(word):\n",
    "    result=[]\n",
    "    for i in range(len(word)):\n",
    "        result.append(word[:i]+word[i+1:])\n",
    "    return result"
   ]
  },
  {
   "cell_type": "code",
   "execution_count": 19,
   "id": "2741a0ed-8b8d-4f55-afd5-a30e52b50d6c",
   "metadata": {},
   "outputs": [],
   "source": [
    "def insert(word):\n",
    "    result=[]\n",
    "    for i in range(len(word)+1):\n",
    "        for j in range(97,123):\n",
    "            result.append(word[:i]+chr(j)+word[i:])\n",
    "    return result\n",
    "        "
   ]
  },
  {
   "cell_type": "code",
   "execution_count": 20,
   "id": "98b8e338-97ea-4d14-8a02-7dd02dd0757e",
   "metadata": {},
   "outputs": [],
   "source": [
    "def replace(word):\n",
    "    result=[]\n",
    "    for i in range(len(word)):\n",
    "        for j in range(97,123):\n",
    "            result.append(word[:i]+chr(j)+word[i+1:])\n",
    "    return result\n",
    "    "
   ]
  },
  {
   "cell_type": "code",
   "execution_count": 21,
   "id": "cb86f08f-0f9b-4303-8ba4-e91825c9fe97",
   "metadata": {},
   "outputs": [],
   "source": [
    "def swap(word):\n",
    "    result=[]\n",
    "    for i in range(len(word)-1):\n",
    "        result.append(word[:i]+word[i+1]+word[i]+word[i+2:])\n",
    "    return result"
   ]
  },
  {
   "cell_type": "code",
   "execution_count": 22,
   "id": "71bbd937-7bf8-4527-a1d6-953a66a8dff2",
   "metadata": {},
   "outputs": [],
   "source": [
    "def all_edits(word):\n",
    "    return insert(word)+delete(word)+replace(word)+swap(word)"
   ]
  },
  {
   "cell_type": "markdown",
   "id": "c2b1359a-809f-466b-88b4-febfbaef12e6",
   "metadata": {},
   "source": [
    "<div style=\"background-color: \n",
    "    purple; color: white; padding: 10px; border-radius: 5px; font-size: 1.2em;\">\n",
    "    3.Defining the Spell Checking Function\n",
    "</div>\n"
   ]
  },
  {
   "cell_type": "code",
   "execution_count": 1,
   "id": "2c9d2d2e-98e2-451b-bc33-bc7f03ec8db4",
   "metadata": {},
   "outputs": [
    {
     "ename": "NameError",
     "evalue": "name 'all_edits' is not defined",
     "output_type": "error",
     "traceback": [
      "\u001b[1;31m---------------------------------------------------------------------------\u001b[0m",
      "\u001b[1;31mNameError\u001b[0m                                 Traceback (most recent call last)",
      "Cell \u001b[1;32mIn[1], line 1\u001b[0m\n\u001b[1;32m----> 1\u001b[0m lvl1\u001b[38;5;241m=\u001b[39m\u001b[43mall_edits\u001b[49m(\u001b[38;5;124m\"\u001b[39m\u001b[38;5;124mLoave\u001b[39m\u001b[38;5;124m\"\u001b[39m)\n",
      "\u001b[1;31mNameError\u001b[0m: name 'all_edits' is not defined"
     ]
    }
   ],
   "source": [
    "lvl1=all_edits(\"Loave\")"
   ]
  },
  {
   "cell_type": "code",
   "execution_count": 24,
   "id": "c795df2d-b588-45f5-b679-062f0fa26271",
   "metadata": {},
   "outputs": [],
   "source": [
    "lvl2=np.concatenate([all_edits(x) for x in lvl1]).tolist()"
   ]
  },
  {
   "cell_type": "code",
   "execution_count": 25,
   "id": "f313c17d-ac35-45b9-ab6d-92e3c771beae",
   "metadata": {},
   "outputs": [
    {
     "data": {
      "text/plain": [
       "95179"
      ]
     },
     "execution_count": 25,
     "metadata": {},
     "output_type": "execute_result"
    }
   ],
   "source": [
    "len(lvl2)"
   ]
  },
  {
   "cell_type": "code",
   "execution_count": 26,
   "id": "d103b90d-1f15-4105-887e-8816a09f2c02",
   "metadata": {},
   "outputs": [
    {
     "data": {
      "text/plain": [
       "295"
      ]
     },
     "execution_count": 26,
     "metadata": {},
     "output_type": "execute_result"
    }
   ],
   "source": [
    "len(lvl1)"
   ]
  },
  {
   "cell_type": "code",
   "execution_count": 36,
   "id": "6a28824e-9184-4240-9b4c-8f45a13bffc6",
   "metadata": {},
   "outputs": [
    {
     "data": {
      "text/plain": [
       "'potato '"
      ]
     },
     "execution_count": 36,
     "metadata": {},
     "output_type": "execute_result"
    }
   ],
   "source": [
    "spell_check(\"potao\")"
   ]
  },
  {
   "cell_type": "code",
   "execution_count": 30,
   "id": "53099810-510a-4234-96be-0a805ef994f1",
   "metadata": {},
   "outputs": [],
   "source": [
    "vocab_set=set(vocab)\n",
    "def spell_check(word):\n",
    "    if word in vocab_set:\n",
    "        return word \n",
    "    lvl1=all_edits(word.lower())\n",
    "    lvl2=np.concatenate([all_edits(x) for x in lvl1]).tolist()\n",
    "    candidates=[x for x in lvl1 if x in vocab_set ]\n",
    "    ranked_candidates={x:probability_dist2[x] for x in candidates}\n",
    "    ranked_candidates=dict(sorted(ranked_candidates.items(), key=lambda item: item[1], reverse=True))\n",
    "    string=f\"{'  '.join(list(ranked_candidates.keys())[:3])} \"\n",
    "    return string\n",
    "    "
   ]
  },
  {
   "cell_type": "markdown",
   "id": "a660f2ec-e3c4-455f-b3c1-afa26bc26cdc",
   "metadata": {},
   "source": [
    "<div style=\"background-color: \n",
    "    purple; color: white; padding: 10px; border-radius: 5px; font-size: 1.2em;\">\n",
    "4.Execution\n",
    "</div>\n"
   ]
  },
  {
   "cell_type": "code",
   "execution_count": 31,
   "id": "66f667c6-aa40-4bf3-bedf-4626100d4ebb",
   "metadata": {},
   "outputs": [
    {
     "data": {
      "application/vnd.jupyter.widget-view+json": {
       "model_id": "4bec6c392031496ea79c0139aab69b5f",
       "version_major": 2,
       "version_minor": 0
      },
      "text/plain": [
       "Text(value='', description='Input:')"
      ]
     },
     "metadata": {},
     "output_type": "display_data"
    },
    {
     "data": {
      "application/vnd.jupyter.widget-view+json": {
       "model_id": "afc1153cfae041f292e3a337e5aec580",
       "version_major": 2,
       "version_minor": 0
      },
      "text/plain": [
       "Label(value='')"
      ]
     },
     "metadata": {},
     "output_type": "display_data"
    }
   ],
   "source": [
    "import ipywidgets as widgets\n",
    "from IPython.display import display\n",
    "\n",
    "def process_input(change):\n",
    "    input_value = input_box.value\n",
    "    if input_value.strip():\n",
    "        output_label.value = spell_check(input_value)\n",
    "    else:\n",
    "        output_label.value = ' '\n",
    "        \n",
    "\n",
    "input_box = widgets.Text(description=\"Input:\")\n",
    "input_box.observe(process_input, names='value')\n",
    "\n",
    "output_label = widgets.Label(value=\"\")\n",
    "\n",
    "display(input_box, output_label)\n"
   ]
  },
  {
   "cell_type": "code",
   "execution_count": 32,
   "id": "c3907232-aad8-4fea-ae72-c24afbec9742",
   "metadata": {},
   "outputs": [],
   "source": [
    "def is_pal(s):\n",
    "            return s==s[::-1]"
   ]
  },
  {
   "cell_type": "code",
   "execution_count": 33,
   "id": "71cfd96d-9bbc-4838-91cc-561d8c86152f",
   "metadata": {},
   "outputs": [
    {
     "data": {
      "text/plain": [
       "True"
      ]
     },
     "execution_count": 33,
     "metadata": {},
     "output_type": "execute_result"
    }
   ],
   "source": [
    "is_pal('aaabaaa')"
   ]
  },
  {
   "cell_type": "code",
   "execution_count": 34,
   "id": "1b019d2a-92c9-45f3-835c-a6ceaf3a26d2",
   "metadata": {},
   "outputs": [
    {
     "data": {
      "text/plain": [
       "'c'"
      ]
     },
     "execution_count": 34,
     "metadata": {},
     "output_type": "execute_result"
    }
   ],
   "source": [
    "\"C\".lower()"
   ]
  },
  {
   "cell_type": "code",
   "execution_count": 35,
   "id": "c18aa6d1-ac68-48ae-9368-f710d58e3dc7",
   "metadata": {},
   "outputs": [
    {
     "data": {
      "text/plain": [
       "97"
      ]
     },
     "execution_count": 35,
     "metadata": {},
     "output_type": "execute_result"
    }
   ],
   "source": [
    "ord(\"a\")"
   ]
  },
  {
   "cell_type": "code",
   "execution_count": null,
   "id": "a74b0e1f-6be4-4def-b1f7-fa2b8d6493d7",
   "metadata": {},
   "outputs": [],
   "source": []
  }
 ],
 "metadata": {
  "kernelspec": {
   "display_name": "spellsavvyenv",
   "language": "python",
   "name": "spellsavvyenv"
  },
  "language_info": {
   "codemirror_mode": {
    "name": "ipython",
    "version": 3
   },
   "file_extension": ".py",
   "mimetype": "text/x-python",
   "name": "python",
   "nbconvert_exporter": "python",
   "pygments_lexer": "ipython3",
   "version": "3.12.4"
  },
  "widgets": {
   "application/vnd.jupyter.widget-state+json": {
    "state": {},
    "version_major": 2,
    "version_minor": 0
   }
  }
 },
 "nbformat": 4,
 "nbformat_minor": 5
}
